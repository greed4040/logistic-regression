{
 "cells": [
  {
   "cell_type": "code",
   "execution_count": 3,
   "id": "833a4953",
   "metadata": {},
   "outputs": [
    {
     "name": "stdout",
     "output_type": "stream",
     "text": [
      "X shape:(209, 64, 64, 3)\n",
      "vertical vector dimenstions (lines): 12288\n",
      "X shape:(12288, 209), W shape:(12288, 1)\n",
      "[[0. 0. 0. 0.]\n",
      " [0. 0. 0. 0.]\n",
      " [0. 0. 0. 0.]]\n",
      "[0.06666667 0.12156863 0.21960784 0.08627451 0.12941176 0.23137255\n",
      " 0.09803922 0.1372549  0.24313725 0.09803922 0.1372549  0.24313725\n",
      " 0.10588235 0.14117647 0.25098039 0.10980392 0.14901961 0.2627451\n",
      " 0.11764706 0.16078431 0.27058824 0.12156863 0.16862745 0.28627451\n",
      " 0.1254902  0.18431373 0.29803922 0.13333333 0.19215686 0.30980392\n",
      " 0.1372549  0.19607843 0.32156863 0.14117647 0.2        0.32156863\n",
      " 0.1372549  0.19607843 0.31764706 0.13333333 0.19215686 0.30980392\n",
      " 0.12941176 0.18823529 0.30980392 0.12941176 0.18823529 0.30980392\n",
      " 0.1254902  0.18431373 0.30588235 0.12156863 0.18039216 0.29803922\n",
      " 0.11764706 0.17254902 0.29411765 0.11372549 0.17254902 0.29411765\n",
      " 0.11372549 0.17254902 0.29411765 0.10588235 0.17254902 0.29019608\n",
      " 0.10588235 0.16470588 0.28627451 0.09803922 0.16078431 0.27843137\n",
      " 0.09019608 0.15686275 0.28235294 0.08235294 0.16078431 0.28627451\n",
      " 0.08235294 0.16470588 0.29019608 0.08235294 0.16078431 0.29019608\n",
      " 0.07843137 0.15686275 0.28627451 0.07843137 0.15294118 0.28235294\n",
      " 0.0745098  0.15294118 0.28235294 0.07058824 0.14901961 0.27843137\n",
      " 0.0627451  0.14901961 0.2745098  0.05490196 0.14509804 0.27058824\n",
      " 0.04705882 0.14509804 0.26666667 0.04313725 0.14117647 0.2627451\n",
      " 0.03529412 0.14117647 0.25882353 0.02745098 0.13333333 0.25098039\n",
      " 0.02745098 0.1372549  0.25882353 0.01568627 0.14117647 0.27058824\n",
      " 0.01176471 0.14117647 0.27058824 0.00784314 0.13333333 0.25490196\n",
      " 0.00784314 0.13333333 0.25490196 0.00392157 0.1372549  0.2627451\n",
      " 0.00392157 0.13333333 0.2627451  0.00392157 0.13333333 0.25882353\n",
      " 0.         0.1254902  0.24705882 0.00392157 0.11764706 0.23921569\n",
      " 0.00392157 0.11764706 0.24313725 0.00784314 0.11372549 0.23137255\n",
      " 0.         0.11372549 0.23137255 0.00392157 0.11372549 0.23137255\n",
      " 0.00392157 0.10980392 0.22745098 0.00392157 0.10980392 0.22352941\n",
      " 0.00392157 0.10980392 0.22352941 0.00392157 0.10980392 0.22352941\n",
      " 0.00392157 0.10980392 0.22352941 0.00392157 0.09803922 0.21568627\n",
      " 0.         0.09803922 0.21568627 0.00392157 0.10588235 0.22745098\n",
      " 0.00392157 0.10980392 0.22745098 0.00392157 0.10980392 0.22352941\n",
      " 0.00392157 0.10196078 0.21960784 0.00392157 0.08627451 0.2\n",
      " 0.09803922 0.14117647 0.24313725 0.10980392 0.14901961 0.25098039\n",
      " 0.11764706 0.15686275 0.2627451  0.11764706 0.15294118 0.2627451\n",
      " 0.12156863 0.15686275 0.26666667 0.12941176 0.16078431]\n",
      "(1, 209)\n",
      "[[0 0 1 0 0 0 0 1 0 0 0 1 0 1 1 0 0 0 0 1 0 0 0 0 1 1 0 1 0 1 0 0 0 0 0 0\n",
      "  0 0 1 0 0 1 1 0 0 0 0 1 0 0 1 0 0 0 1 0 1 1 0 1 1 1 0 0 0 0 0 0 1 0 0 1\n",
      "  0 0 0 0 0 0 0 0 0 0 0 1 1 0 0 0 1 0 0 0 1 1 1 0 0 1 0 0 0 0 1 0 1 0 1 1\n",
      "  1 1 1 1 0 0 0 0 0 1 0 0 0 1 0 0 1 0 1 0 1 1 0 0 0 1 1 1 1 1 0 0 0 0 1 0\n",
      "  1 1 1 0 1 1 0 0 0 1 0 0 1 0 0 0 0 0 1 0 1 0 1 0 0 1 1 1 0 0 1 1 0 1 0 1\n",
      "  0 0 0 0 0 1 0 0 1 0 0 0 1 0 0 0 0 1 0 0 1 0 0 0 0 0 0 0 0]]\n"
     ]
    }
   ],
   "source": [
    "from matplotlib import image\n",
    "import matplotlib.pyplot as plt\n",
    "import numpy as np\n",
    "from os import listdir\n",
    "from os.path import isfile, join\n",
    "import math\n",
    "import h5py\n",
    "\n",
    "print_messages=False\n",
    "loss_cost=[]\n",
    "\n",
    "def load_dataset():\n",
    "    train_dataset = h5py.File('../enchance/train_catvnoncat.h5', \"r\")\n",
    "    train_set_x_orig = np.array(train_dataset[\"train_set_x\"][:]) # your train set features\n",
    "    train_set_y_orig = np.array(train_dataset[\"train_set_y\"][:]) # your train set labels\n",
    "\n",
    "    test_dataset = h5py.File('../enchance/test_catvnoncat.h5', \"r\")\n",
    "    test_set_x_orig = np.array(test_dataset[\"test_set_x\"][:]) # your test set features\n",
    "    test_set_y_orig = np.array(test_dataset[\"test_set_y\"][:]) # your test set labels\n",
    "\n",
    "    classes = np.array(test_dataset[\"list_classes\"][:]) # the list of classes\n",
    "    \n",
    "    train_set_y_orig = train_set_y_orig.reshape((1, train_set_y_orig.shape[0]))\n",
    "    test_set_y_orig = test_set_y_orig.reshape((1, test_set_y_orig.shape[0]))\n",
    "\n",
    "    return train_set_x_orig, train_set_y_orig, test_set_x_orig, test_set_y_orig, classes\n",
    "\n",
    "def loss(y, y_pred):\n",
    "    a = lambda x: y*np.log(x)\n",
    "    b = lambda x: (1-y)*(1-np.log(1-y_pred))\n",
    "    a=y*np.log(y_pred)\n",
    "    b=(1-y)*(1-np.log(1-y_pred))\n",
    "    response=-1*(a+b)\n",
    "    return response\n",
    "\n",
    "def read_img(filename, default_dims=(2560, 1920, 3)):\n",
    "    #print(name, type(name))\n",
    "    img = image.imread(filename)\n",
    "    \n",
    "    if img.shape==default_dims:\n",
    "        img_resh=np.array(img).reshape(default_dims[0]*default_dims[1]*default_dims[2],1)\n",
    "        return img_resh, img\n",
    "\n",
    "def read_directory(mypath='../enchance/'):\n",
    "    fls = [mypath+f for f in listdir(mypath) if isfile(join(mypath, f))]\n",
    "    images_arr=[]\n",
    "    for rec in fls:\n",
    "        resp=read_img(rec)\n",
    "        if resp!=None:\n",
    "            print(rec)\n",
    "            images_arr.append(resp[0])\n",
    "    nparr=np.array(images_arr)\n",
    "    nparr_reshaped=nparr.reshape(nparr.shape[1], nparr.shape[0])\n",
    "    return nparr_reshaped\n",
    "\n",
    "def cost(inp_loss):\n",
    "    if print_messages: print(\"loss shape:\", inp_loss.shape)\n",
    "    return (-1/inp_loss.shape[1])*np.sum(inp_loss[0])\n",
    "    \n",
    "sgm1 = lambda x: 1/(1+math.e**-x)\n",
    "learning_rate=0.001\n",
    "\n",
    "train_set_x_orig, train_set_y, test_set_x_orig, test_set_y, classes = load_dataset()\n",
    "print(\"X shape:{a}\".format(a=train_set_x_orig.shape))\n",
    "\n",
    "vector_size=train_set_x_orig.shape[1] * train_set_x_orig.shape[2] * train_set_x_orig.shape[3]\n",
    "m=train_set_x_orig.shape[0]\n",
    "\n",
    "print(\"vertical vector dimenstions (lines):\", vector_size)\n",
    "\n",
    "x=train_set_x_orig.reshape((vector_size, m))/255\n",
    "#x=read_directory()\n",
    "\n",
    "w=np.zeros((vector_size,1))\n",
    "b=0\n",
    "\n",
    "print(\"X shape:{var1}, W shape:{var2}\".format(var1=x.shape, var2=w.shape))\n",
    "\n",
    "print(np.zeros((3,4)))\n",
    "\n",
    "print(x[0])\n",
    "\n",
    "print(train_set_y.shape)\n",
    "print(train_set_y)\n",
    "\n",
    "\n",
    "\n"
   ]
  },
  {
   "cell_type": "code",
   "execution_count": 4,
   "id": "9a963438",
   "metadata": {},
   "outputs": [
    {
     "name": "stdout",
     "output_type": "stream",
     "text": [
      "loop: 0, loss: 0.8710744819923275\n",
      "loop: 50, loss: 0.8305233823316548\n",
      "loop: 100, loss: 0.7957158049004796\n",
      "loop: 150, loss: 0.7657779330582604\n",
      "loop: 200, loss: 0.7399753344061984\n",
      "loop: 250, loss: 0.717692047007293\n",
      "loop: 300, loss: 0.6984114175973042\n",
      "loop: 350, loss: 0.6816994242999905\n",
      "loop: 400, loss: 0.6671905783569617\n",
      "loop: 450, loss: 0.6545762034317587\n",
      "loop: 500, loss: 0.6435947805082476\n",
      "loop: 550, loss: 0.6340240291596754\n",
      "loop: 600, loss: 0.6256744210497791\n",
      "loop: 650, loss: 0.6183838622406755\n",
      "loop: 700, loss: 0.612013324098349\n",
      "loop: 750, loss: 0.6064432424530258\n",
      "loop: 800, loss: 0.601570539064139\n",
      "loop: 850, loss: 0.5973061480364974\n",
      "loop: 900, loss: 0.5935729531064537\n",
      "loop: 950, loss: 0.5903040604165405\n"
     ]
    }
   ],
   "source": [
    "for i in range(0,1000):\n",
    "    if print_messages: print(\"this is w:\",w)\n",
    "    z=np.dot(w.transpose(), x) + b\n",
    "    if print_messages: print(\"z shape (w*x):\",z.shape)\n",
    "    if print_messages: print(\"this is z:\", z)\n",
    "\n",
    "    a=sgm1(z)\n",
    "    if print_messages: print(\"this is a:\",a)\n",
    "    L=loss(train_set_y,a)\n",
    "    if print_messages: print(\"this is loss:\", L)\n",
    "    C=cost(L)\n",
    "    if print_messages: print(\"this is cost:\", C)\n",
    "    loss_cost.append(C)\n",
    "\n",
    "    dz=(a-train_set_y)/m\n",
    "    if print_messages: print(\"this is dz:\", dz)\n",
    "    dw=np.dot(x,dz.T)/m\n",
    "    correction=dw*learning_rate\n",
    "    if print_messages: print(\"correction:\",correction)\n",
    "    w=w-correction\n",
    "    if print_messages: print(\"=\"*20)\n",
    "    if print_messages: print(\"this is updated W:\",w)\n",
    "    if i%50==0: print(\"loop: %s, loss: %s\" % (i, C))"
   ]
  },
  {
   "cell_type": "code",
   "execution_count": 6,
   "id": "18409a0a",
   "metadata": {},
   "outputs": [
    {
     "data": {
      "image/png": "[encoded data removed]",
      "text/plain": [
       "<Figure size 432x288 with 1 Axes>"
      ]
     },
     "metadata": {},
     "output_type": "display_data"
    }
   ],
   "source": [
    "import seaborn as sns \n",
    "plt.title('learning rate')\n",
    "sns.set_theme()\n",
    "a=sns.lineplot(data=loss_cost)\n"
   ]
  },
  {
   "cell_type": "code",
   "execution_count": null,
   "id": "b40ca643",
   "metadata": {},
   "outputs": [],
   "source": [
    "plt.imshow(train_set_x_orig[7])\n"
   ]
  },
  {
   "cell_type": "code",
   "execution_count": 1,
   "id": "12c42e3a",
   "metadata": {},
   "outputs": [
    {
     "ename": "NameError",
     "evalue": "name 'np' is not defined",
     "output_type": "error",
     "traceback": [
      "\u001b[0;31m---------------------------------------------------------------------------\u001b[0m",
      "\u001b[0;31mNameError\u001b[0m                                 Traceback (most recent call last)",
      "\u001b[0;32m/tmp/ipykernel_8298/4037133568.py\u001b[0m in \u001b[0;36m<module>\u001b[0;34m\u001b[0m\n\u001b[0;32m----> 1\u001b[0;31m \u001b[0mx1\u001b[0m \u001b[0;34m=\u001b[0m \u001b[0mnp\u001b[0m\u001b[0;34m.\u001b[0m\u001b[0mrandom\u001b[0m\u001b[0;34m.\u001b[0m\u001b[0mrand\u001b[0m\u001b[0;34m(\u001b[0m\u001b[0;36m3\u001b[0m\u001b[0;34m,\u001b[0m \u001b[0;36m2\u001b[0m\u001b[0;34m)\u001b[0m\u001b[0;34m\u001b[0m\u001b[0;34m\u001b[0m\u001b[0m\n\u001b[0m\u001b[1;32m      2\u001b[0m \u001b[0;34m\u001b[0m\u001b[0m\n\u001b[1;32m      3\u001b[0m \u001b[0my1\u001b[0m \u001b[0;34m=\u001b[0m \u001b[0mnp\u001b[0m\u001b[0;34m.\u001b[0m\u001b[0msum\u001b[0m\u001b[0;34m(\u001b[0m\u001b[0mx1\u001b[0m\u001b[0;34m,\u001b[0m \u001b[0maxis\u001b[0m\u001b[0;34m=\u001b[0m\u001b[0;36m0\u001b[0m\u001b[0;34m,\u001b[0m \u001b[0mkeepdims\u001b[0m\u001b[0;34m=\u001b[0m\u001b[0;32mTrue\u001b[0m\u001b[0;34m)\u001b[0m\u001b[0;34m\u001b[0m\u001b[0;34m\u001b[0m\u001b[0m\n\u001b[1;32m      4\u001b[0m \u001b[0my1\u001b[0m\u001b[0;34m.\u001b[0m\u001b[0mshape\u001b[0m\u001b[0;34m\u001b[0m\u001b[0;34m\u001b[0m\u001b[0m\n",
      "\u001b[0;31mNameError\u001b[0m: name 'np' is not defined"
     ]
    }
   ],
   "source": [
    "x1 = np.random.rand(3, 2)\n",
    "\n",
    "y1 = np.sum(x1, axis=0, keepdims=True)\n",
    "y1.shape"
   ]
  },
  {
   "cell_type": "code",
   "execution_count": 2,
   "id": "1396cec1",
   "metadata": {},
   "outputs": [
    {
     "ename": "NameError",
     "evalue": "name 'x1' is not defined",
     "output_type": "error",
     "traceback": [
      "\u001b[0;31m---------------------------------------------------------------------------\u001b[0m",
      "\u001b[0;31mNameError\u001b[0m                                 Traceback (most recent call last)",
      "\u001b[0;32m/tmp/ipykernel_8298/3390362861.py\u001b[0m in \u001b[0;36m<module>\u001b[0;34m\u001b[0m\n\u001b[0;32m----> 1\u001b[0;31m \u001b[0mx1\u001b[0m\u001b[0;34m\u001b[0m\u001b[0;34m\u001b[0m\u001b[0m\n\u001b[0m",
      "\u001b[0;31mNameError\u001b[0m: name 'x1' is not defined"
     ]
    }
   ],
   "source": [
    "x1"
   ]
  },
  {
   "cell_type": "code",
   "execution_count": 56,
   "id": "e5e099d3",
   "metadata": {},
   "outputs": [
    {
     "data": {
      "text/plain": [
       "(4, 1)"
      ]
     },
     "execution_count": 56,
     "metadata": {},
     "output_type": "execute_result"
    }
   ],
   "source": [
    "A = np.random.randn(4,3)\n",
    "\n",
    "B = np.sum(A, axis = 1, keepdims = True) \n",
    "B.shape"
   ]
  },
  {
   "cell_type": "code",
   "execution_count": 57,
   "id": "372784bb",
   "metadata": {},
   "outputs": [
    {
     "data": {
      "text/plain": [
       "array([[-1.02173611],\n",
       "       [ 0.32300498],\n",
       "       [-2.35827206],\n",
       "       [ 1.7469219 ]])"
      ]
     },
     "execution_count": 57,
     "metadata": {},
     "output_type": "execute_result"
    }
   ],
   "source": [
    "B"
   ]
  },
  {
   "cell_type": "code",
   "execution_count": 60,
   "id": "9f908804",
   "metadata": {},
   "outputs": [
    {
     "data": {
      "text/plain": [
       "(4,)"
      ]
     },
     "execution_count": 60,
     "metadata": {},
     "output_type": "execute_result"
    }
   ],
   "source": [
    "x3 = np.random.rand(4, 5)\n",
    "\n",
    "y3 = np.sum(x3, axis=1)\n",
    "y3.shape"
   ]
  },
  {
   "cell_type": "code",
   "execution_count": null,
   "id": "000f3857",
   "metadata": {},
   "outputs": [],
   "source": []
  }
 ],
 "metadata": {
  "kernelspec": {
   "display_name": "Python 3 (ipykernel)",
   "language": "python",
   "name": "python3"
  },
  "language_info": {
   "codemirror_mode": {
    "name": "ipython",
    "version": 3
   },
   "file_extension": ".py",
   "mimetype": "text/x-python",
   "name": "python",
   "nbconvert_exporter": "python",
   "pygments_lexer": "ipython3",
   "version": "3.9.7"
  }
 },
 "nbformat": 4,
 "nbformat_minor": 5
}
